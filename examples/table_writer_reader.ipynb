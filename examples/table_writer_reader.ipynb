{
 "cells": [
  {
   "cell_type": "markdown",
   "metadata": {},
   "source": [
    "# Writing Containers to a tabular format\n",
    "\n",
    "The `TableWriter`/`TableReader` sub-classes allow you to write a `ctapipe.core.Container` class and its meta-data to an output table. They treat the `Field`s in the `Container` as columns in the output, and automatically generate a schema.  Here we will go through an example of writing out data and reading it back with *Pandas*, *PyTables*, and a `ctapipe.io.TableReader`:\n",
    "\n",
    "In this example, we will use the `HDF5TableWriter`, which writes to HDF5 datasets using *PyTables*. Currently this is the only implemented TableWriter."
   ]
  },
  {
   "cell_type": "markdown",
   "metadata": {},
   "source": [
    "Caveats to think about:\n",
    "* vector columns in Containers *can* be written, but some lilbraries like Pandas can not read those (so you must use pytables or astropy to read outputs that have vector columns)\n",
    "* units are stored in the table metadata, but some libraries like Pandas ignore them and all other metadata"
   ]
  },
  {
   "cell_type": "markdown",
   "metadata": {},
   "source": [
    "## Create some example Containers"
   ]
  },
  {
   "cell_type": "code",
   "execution_count": 1,
   "metadata": {
    "execution": {
     "iopub.execute_input": "2023-02-02T15:26:32.978858Z",
     "iopub.status.busy": "2023-02-02T15:26:32.977750Z",
     "iopub.status.idle": "2023-02-02T15:26:37.678413Z",
     "shell.execute_reply": "2023-02-02T15:26:37.677566Z"
    }
   },
   "outputs": [],
   "source": [
    "from ctapipe.io import HDF5TableWriter\n",
    "from ctapipe.core import Container, Field\n",
    "from astropy import units as u\n",
    "import numpy as np"
   ]
  },
  {
   "cell_type": "code",
   "execution_count": 2,
   "metadata": {
    "execution": {
     "iopub.execute_input": "2023-02-02T15:26:37.683708Z",
     "iopub.status.busy": "2023-02-02T15:26:37.682539Z",
     "iopub.status.idle": "2023-02-02T15:26:37.688569Z",
     "shell.execute_reply": "2023-02-02T15:26:37.687962Z"
    }
   },
   "outputs": [],
   "source": [
    "class VariousTypesContainer(Container):\n",
    "    \n",
    "    a_int = Field(int, 'some int value')\n",
    "    a_float = Field(float, 'some float value with a unit', unit=u.m)\n",
    "    a_bool = Field(bool, 'some bool value')\n",
    "    a_np_int = Field(np.int64, 'a numpy int')\n",
    "    a_np_float = Field(np.float64, 'a numpy float')\n",
    "    a_np_bool = Field(np.bool_, 'np.bool')"
   ]
  },
  {
   "cell_type": "markdown",
   "metadata": {},
   "source": [
    "let's also make a dummy stream (generator) that will create a series of these containers"
   ]
  },
  {
   "cell_type": "code",
   "execution_count": 3,
   "metadata": {
    "execution": {
     "iopub.execute_input": "2023-02-02T15:26:37.692914Z",
     "iopub.status.busy": "2023-02-02T15:26:37.691853Z",
     "iopub.status.idle": "2023-02-02T15:26:37.697954Z",
     "shell.execute_reply": "2023-02-02T15:26:37.697359Z"
    }
   },
   "outputs": [],
   "source": [
    "def create_stream(n_event):\n",
    "    \n",
    "    data = VariousTypesContainer()\n",
    "    for i in range(n_event):\n",
    "        \n",
    "        data.a_int = int(i)\n",
    "        data.a_float = float(i) * u.cm # note unit conversion will happen\n",
    "        data.a_bool = (i % 2) == 0\n",
    "        data.a_np_int = np.int64(i)\n",
    "        data.a_np_float = np.float64(i)\n",
    "        data.a_np_bool = np.bool_((i % 2) == 0)\n",
    "        \n",
    "        yield data"
   ]
  },
  {
   "cell_type": "code",
   "execution_count": 4,
   "metadata": {
    "execution": {
     "iopub.execute_input": "2023-02-02T15:26:37.701941Z",
     "iopub.status.busy": "2023-02-02T15:26:37.700895Z",
     "iopub.status.idle": "2023-02-02T15:26:37.712195Z",
     "shell.execute_reply": "2023-02-02T15:26:37.711496Z"
    }
   },
   "outputs": [
    {
     "name": "stdout",
     "output_type": "stream",
     "text": [
      "a_int: 0, type : <class 'int'>\n",
      "a_float: 0.0 cm, type : <class 'astropy.units.quantity.Quantity'>\n",
      "a_bool: True, type : <class 'bool'>\n",
      "a_np_int: 0, type : <class 'numpy.int64'>\n",
      "a_np_float: 0.0, type : <class 'numpy.float64'>\n",
      "a_np_bool: True, type : <class 'numpy.bool_'>\n",
      "a_int: 1, type : <class 'int'>\n",
      "a_float: 1.0 cm, type : <class 'astropy.units.quantity.Quantity'>\n",
      "a_bool: False, type : <class 'bool'>\n",
      "a_np_int: 1, type : <class 'numpy.int64'>\n",
      "a_np_float: 1.0, type : <class 'numpy.float64'>\n",
      "a_np_bool: False, type : <class 'numpy.bool_'>\n"
     ]
    }
   ],
   "source": [
    "for data in create_stream(2):\n",
    "        \n",
    "    for key, val in data.items():\n",
    "        \n",
    "        print('{}: {}, type : {}'.format(key, val, type(val)))"
   ]
  },
  {
   "cell_type": "markdown",
   "metadata": {},
   "source": [
    "## Writing the Data (and good practices)"
   ]
  },
  {
   "cell_type": "markdown",
   "metadata": {},
   "source": [
    "Always use context managers with IO classes, as they will make sure the underlying resources are properly closed in case of errors:"
   ]
  },
  {
   "cell_type": "code",
   "execution_count": 5,
   "metadata": {
    "execution": {
     "iopub.execute_input": "2023-02-02T15:26:37.716514Z",
     "iopub.status.busy": "2023-02-02T15:26:37.715410Z",
     "iopub.status.idle": "2023-02-02T15:26:37.763511Z",
     "shell.execute_reply": "2023-02-02T15:26:37.762632Z"
    }
   },
   "outputs": [
    {
     "name": "stdout",
     "output_type": "stream",
     "text": [
      "FAILED: division by zero\n",
      "Done\n"
     ]
    },
    {
     "data": {
      "text/plain": [
       "True"
      ]
     },
     "execution_count": 5,
     "metadata": {},
     "output_type": "execute_result"
    }
   ],
   "source": [
    "try:\n",
    "    with HDF5TableWriter('container.h5', group_name='data') as h5_table:\n",
    "\n",
    "        for data in create_stream(10):\n",
    "\n",
    "            h5_table.write('table', data)\n",
    "            0/0\n",
    "except Exception as err:\n",
    "    print(\"FAILED:\", err)\n",
    "print('Done')\n",
    "\n",
    "h5_table.h5file.isopen == False"
   ]
  },
  {
   "cell_type": "code",
   "execution_count": 6,
   "metadata": {
    "execution": {
     "iopub.execute_input": "2023-02-02T15:26:37.767962Z",
     "iopub.status.busy": "2023-02-02T15:26:37.766863Z",
     "iopub.status.idle": "2023-02-02T15:26:37.954416Z",
     "shell.execute_reply": "2023-02-02T15:26:37.953493Z"
    }
   },
   "outputs": [
    {
     "name": "stdout",
     "output_type": "stream",
     "text": [
      "container.h5\r\n"
     ]
    }
   ],
   "source": [
    "!ls container.h5"
   ]
  },
  {
   "cell_type": "markdown",
   "metadata": {},
   "source": [
    "## Appending new Containers"
   ]
  },
  {
   "cell_type": "markdown",
   "metadata": {},
   "source": [
    "To append some new containers we need to set the writing in append mode by using: 'mode=a'. But let's now first look at what happens if we don't."
   ]
  },
  {
   "cell_type": "code",
   "execution_count": 7,
   "metadata": {
    "execution": {
     "iopub.execute_input": "2023-02-02T15:26:37.958734Z",
     "iopub.status.busy": "2023-02-02T15:26:37.958430Z",
     "iopub.status.idle": "2023-02-02T15:26:37.981836Z",
     "shell.execute_reply": "2023-02-02T15:26:37.981170Z"
    }
   },
   "outputs": [
    {
     "name": "stdout",
     "output_type": "stream",
     "text": [
      "container.h5 (File) ''\n",
      "Last modif.: '2023-02-02T15:26:37+00:00'\n",
      "Object Tree: \n",
      "/ (RootGroup) ''\n",
      "/data_0 (Group) ''\n",
      "/data_0/table (Table(0,)fletcher32, shuffle, blosc:zstd(5)) 'Storage of VariousTypesContainer'\n",
      "\n",
      "container.h5 (File) ''\n",
      "Last modif.: '2023-02-02T15:26:37+00:00'\n",
      "Object Tree: \n",
      "/ (RootGroup) ''\n",
      "/data_1 (Group) ''\n",
      "/data_1/table (Table(0,)fletcher32, shuffle, blosc:zstd(5)) 'Storage of VariousTypesContainer'\n",
      "\n"
     ]
    }
   ],
   "source": [
    "for i in range(2):\n",
    "\n",
    "    with HDF5TableWriter('container.h5', mode='w', group_name='data_{}'.format(i)) as h5_table:\n",
    "    \n",
    "        for data in create_stream(10):\n",
    "    \n",
    "            h5_table.write('table', data)\n",
    "\n",
    "        print(h5_table.h5file)"
   ]
  },
  {
   "cell_type": "code",
   "execution_count": 8,
   "metadata": {
    "execution": {
     "iopub.execute_input": "2023-02-02T15:26:37.986314Z",
     "iopub.status.busy": "2023-02-02T15:26:37.985234Z",
     "iopub.status.idle": "2023-02-02T15:26:38.142727Z",
     "shell.execute_reply": "2023-02-02T15:26:38.141647Z"
    }
   },
   "outputs": [],
   "source": [
    "!rm -f container.h5"
   ]
  },
  {
   "cell_type": "markdown",
   "metadata": {},
   "source": [
    "Ok so the writer destroyed the content of the file each time it opens the file. Now let's try to append some data group to it! (using mode='a')"
   ]
  },
  {
   "cell_type": "code",
   "execution_count": 9,
   "metadata": {
    "execution": {
     "iopub.execute_input": "2023-02-02T15:26:38.147117Z",
     "iopub.status.busy": "2023-02-02T15:26:38.146811Z",
     "iopub.status.idle": "2023-02-02T15:26:38.173365Z",
     "shell.execute_reply": "2023-02-02T15:26:38.172700Z"
    }
   },
   "outputs": [
    {
     "name": "stdout",
     "output_type": "stream",
     "text": [
      "container.h5 (File) ''\n",
      "Last modif.: '2023-02-02T15:26:38+00:00'\n",
      "Object Tree: \n",
      "/ (RootGroup) ''\n",
      "/data_0 (Group) ''\n",
      "/data_0/table (Table(0,)fletcher32, shuffle, blosc:zstd(5)) 'Storage of VariousTypesContainer'\n",
      "\n",
      "container.h5 (File) ''\n",
      "Last modif.: '2023-02-02T15:26:38+00:00'\n",
      "Object Tree: \n",
      "/ (RootGroup) ''\n",
      "/data_0 (Group) ''\n",
      "/data_0/table (Table(10,)fletcher32, shuffle, blosc:zstd(5)) 'Storage of VariousTypesContainer'\n",
      "/data_1 (Group) ''\n",
      "/data_1/table (Table(0,)fletcher32, shuffle, blosc:zstd(5)) 'Storage of VariousTypesContainer'\n",
      "\n"
     ]
    }
   ],
   "source": [
    "for i in range(2):\n",
    "\n",
    "    with HDF5TableWriter('container.h5', mode='a', group_name='data_{}'.format(i)) as h5_table:\n",
    "    \n",
    "        for data in create_stream(10):\n",
    "    \n",
    "            h5_table.write('table', data)\n",
    "\n",
    "        print(h5_table.h5file)"
   ]
  },
  {
   "cell_type": "markdown",
   "metadata": {},
   "source": [
    "So we can append some data groups. As long as the data group_name does not already exists. Let's try to overwrite the data group : data_1"
   ]
  },
  {
   "cell_type": "code",
   "execution_count": 10,
   "metadata": {
    "execution": {
     "iopub.execute_input": "2023-02-02T15:26:38.177704Z",
     "iopub.status.busy": "2023-02-02T15:26:38.176643Z",
     "iopub.status.idle": "2023-02-02T15:26:38.188342Z",
     "shell.execute_reply": "2023-02-02T15:26:38.187657Z"
    }
   },
   "outputs": [],
   "source": [
    "try:\n",
    "    with HDF5TableWriter('container.h5', mode='a', group_name='data_1') as h5_table:\n",
    "        for data in create_stream(10):\n",
    "            h5_table.write('table', data)\n",
    "except Exception as err:\n",
    "    print(\"Failed as expected:\", err)"
   ]
  },
  {
   "cell_type": "markdown",
   "metadata": {},
   "source": [
    "Good ! I cannot overwrite my data."
   ]
  },
  {
   "cell_type": "code",
   "execution_count": 11,
   "metadata": {
    "execution": {
     "iopub.execute_input": "2023-02-02T15:26:38.193214Z",
     "iopub.status.busy": "2023-02-02T15:26:38.192167Z",
     "iopub.status.idle": "2023-02-02T15:26:38.198343Z",
     "shell.execute_reply": "2023-02-02T15:26:38.197695Z"
    }
   },
   "outputs": [
    {
     "name": "stdout",
     "output_type": "stream",
     "text": [
      "False\n"
     ]
    }
   ],
   "source": [
    "print(bool(h5_table.h5file.isopen))"
   ]
  },
  {
   "cell_type": "markdown",
   "metadata": {},
   "source": [
    "## Reading the Data"
   ]
  },
  {
   "cell_type": "markdown",
   "metadata": {},
   "source": [
    "### Reading the whole table at once:\n",
    "\n",
    "For this, you have several choices.  Since we used the HDF5TableWriter in this example, we have at least these options avilable:\n",
    "\n",
    "* Pandas\n",
    "* PyTables\n",
    "* Astropy Table\n",
    "\n",
    "For other TableWriter implementations, others may be possible (depending on format)\n"
   ]
  },
  {
   "cell_type": "markdown",
   "metadata": {},
   "source": [
    "#### Reading using `ctapipe.io.read_table`\n",
    "\n",
    "This is the preferred method, it returns an astropy `Table` and supports keeping track of\n",
    "units, metadata and transformations."
   ]
  },
  {
   "cell_type": "code",
   "execution_count": 12,
   "metadata": {
    "execution": {
     "iopub.execute_input": "2023-02-02T15:26:38.203129Z",
     "iopub.status.busy": "2023-02-02T15:26:38.202043Z",
     "iopub.status.idle": "2023-02-02T15:26:38.217873Z",
     "shell.execute_reply": "2023-02-02T15:26:38.217086Z"
    }
   },
   "outputs": [
    {
     "data": {
      "text/html": [
       "<div><i>Table length=5</i>\n",
       "<table id=\"table140386277856640\" class=\"table-striped table-bordered table-condensed\">\n",
       "<thead><tr><th>a_int</th><th>a_float</th><th>a_bool</th><th>a_np_int</th><th>a_np_float</th><th>a_np_bool</th></tr></thead>\n",
       "<thead><tr><th></th><th>m</th><th></th><th></th><th></th><th></th></tr></thead>\n",
       "<thead><tr><th>int64</th><th>float64</th><th>bool</th><th>int64</th><th>float64</th><th>bool</th></tr></thead>\n",
       "<tr><td>0</td><td>0.0</td><td>True</td><td>0</td><td>0.0</td><td>True</td></tr>\n",
       "<tr><td>1</td><td>0.01</td><td>False</td><td>1</td><td>1.0</td><td>False</td></tr>\n",
       "<tr><td>2</td><td>0.02</td><td>True</td><td>2</td><td>2.0</td><td>True</td></tr>\n",
       "<tr><td>3</td><td>0.03</td><td>False</td><td>3</td><td>3.0</td><td>False</td></tr>\n",
       "<tr><td>4</td><td>0.04</td><td>True</td><td>4</td><td>4.0</td><td>True</td></tr>\n",
       "</table></div>"
      ],
      "text/plain": [
       "<Table length=5>\n",
       "a_int a_float a_bool a_np_int a_np_float a_np_bool\n",
       "         m                                        \n",
       "int64 float64  bool   int64    float64      bool  \n",
       "----- ------- ------ -------- ---------- ---------\n",
       "    0     0.0   True        0        0.0      True\n",
       "    1    0.01  False        1        1.0     False\n",
       "    2    0.02   True        2        2.0      True\n",
       "    3    0.03  False        3        3.0     False\n",
       "    4    0.04   True        4        4.0      True"
      ]
     },
     "execution_count": 12,
     "metadata": {},
     "output_type": "execute_result"
    }
   ],
   "source": [
    "from ctapipe.io import read_table\n",
    "\n",
    "\n",
    "table = read_table('container.h5', '/data_0/table')\n",
    "table[:5]"
   ]
  },
  {
   "cell_type": "code",
   "execution_count": 13,
   "metadata": {
    "execution": {
     "iopub.execute_input": "2023-02-02T15:26:38.222233Z",
     "iopub.status.busy": "2023-02-02T15:26:38.221031Z",
     "iopub.status.idle": "2023-02-02T15:26:38.228078Z",
     "shell.execute_reply": "2023-02-02T15:26:38.227405Z"
    }
   },
   "outputs": [
    {
     "data": {
      "text/plain": [
       "{'CTAPIPE_VERSION': '0.16.1.dev637+gc4cb55ed.d20230202'}"
      ]
     },
     "execution_count": 13,
     "metadata": {},
     "output_type": "execute_result"
    }
   ],
   "source": [
    "table.meta"
   ]
  },
  {
   "cell_type": "markdown",
   "metadata": {},
   "source": [
    "#### Reading with Pandas:\n",
    "\n",
    "Pandas is a convenient way to read the output.  **HOWEVER BE WARNED** that so far Pandas does not support reading the table *meta-data* or *units* for colums, so that information is lost! "
   ]
  },
  {
   "cell_type": "code",
   "execution_count": 14,
   "metadata": {
    "execution": {
     "iopub.execute_input": "2023-02-02T15:26:38.232353Z",
     "iopub.status.busy": "2023-02-02T15:26:38.231172Z",
     "iopub.status.idle": "2023-02-02T15:26:38.617192Z",
     "shell.execute_reply": "2023-02-02T15:26:38.616440Z"
    }
   },
   "outputs": [
    {
     "data": {
      "text/html": [
       "<div>\n",
       "<style scoped>\n",
       "    .dataframe tbody tr th:only-of-type {\n",
       "        vertical-align: middle;\n",
       "    }\n",
       "\n",
       "    .dataframe tbody tr th {\n",
       "        vertical-align: top;\n",
       "    }\n",
       "\n",
       "    .dataframe thead th {\n",
       "        text-align: right;\n",
       "    }\n",
       "</style>\n",
       "<table border=\"1\" class=\"dataframe\">\n",
       "  <thead>\n",
       "    <tr style=\"text-align: right;\">\n",
       "      <th></th>\n",
       "      <th>a_int</th>\n",
       "      <th>a_float</th>\n",
       "      <th>a_bool</th>\n",
       "      <th>a_np_int</th>\n",
       "      <th>a_np_float</th>\n",
       "      <th>a_np_bool</th>\n",
       "    </tr>\n",
       "  </thead>\n",
       "  <tbody>\n",
       "    <tr>\n",
       "      <th>0</th>\n",
       "      <td>0</td>\n",
       "      <td>0.00</td>\n",
       "      <td>True</td>\n",
       "      <td>0</td>\n",
       "      <td>0.0</td>\n",
       "      <td>True</td>\n",
       "    </tr>\n",
       "    <tr>\n",
       "      <th>1</th>\n",
       "      <td>1</td>\n",
       "      <td>0.01</td>\n",
       "      <td>False</td>\n",
       "      <td>1</td>\n",
       "      <td>1.0</td>\n",
       "      <td>False</td>\n",
       "    </tr>\n",
       "    <tr>\n",
       "      <th>2</th>\n",
       "      <td>2</td>\n",
       "      <td>0.02</td>\n",
       "      <td>True</td>\n",
       "      <td>2</td>\n",
       "      <td>2.0</td>\n",
       "      <td>True</td>\n",
       "    </tr>\n",
       "    <tr>\n",
       "      <th>3</th>\n",
       "      <td>3</td>\n",
       "      <td>0.03</td>\n",
       "      <td>False</td>\n",
       "      <td>3</td>\n",
       "      <td>3.0</td>\n",
       "      <td>False</td>\n",
       "    </tr>\n",
       "    <tr>\n",
       "      <th>4</th>\n",
       "      <td>4</td>\n",
       "      <td>0.04</td>\n",
       "      <td>True</td>\n",
       "      <td>4</td>\n",
       "      <td>4.0</td>\n",
       "      <td>True</td>\n",
       "    </tr>\n",
       "  </tbody>\n",
       "</table>\n",
       "</div>"
      ],
      "text/plain": [
       "   a_int  a_float  a_bool  a_np_int  a_np_float  a_np_bool\n",
       "0      0     0.00    True         0         0.0       True\n",
       "1      1     0.01   False         1         1.0      False\n",
       "2      2     0.02    True         2         2.0       True\n",
       "3      3     0.03   False         3         3.0      False\n",
       "4      4     0.04    True         4         4.0       True"
      ]
     },
     "execution_count": 14,
     "metadata": {},
     "output_type": "execute_result"
    }
   ],
   "source": [
    "import pandas as pd\n",
    "\n",
    "data = pd.read_hdf('container.h5', key='/data_0/table')\n",
    "data.head()"
   ]
  },
  {
   "cell_type": "markdown",
   "metadata": {},
   "source": [
    "#### Reading with PyTables"
   ]
  },
  {
   "cell_type": "code",
   "execution_count": 15,
   "metadata": {
    "execution": {
     "iopub.execute_input": "2023-02-02T15:26:38.622025Z",
     "iopub.status.busy": "2023-02-02T15:26:38.620831Z",
     "iopub.status.idle": "2023-02-02T15:26:38.633518Z",
     "shell.execute_reply": "2023-02-02T15:26:38.632884Z"
    }
   },
   "outputs": [
    {
     "data": {
      "text/plain": [
       "/data_0/table (Table(10,)fletcher32, shuffle, blosc:zstd(5)) 'Storage of VariousTypesContainer'\n",
       "  description := {\n",
       "  \"a_int\": Int64Col(shape=(), dflt=0, pos=0),\n",
       "  \"a_float\": Float64Col(shape=(), dflt=0.0, pos=1),\n",
       "  \"a_bool\": BoolCol(shape=(), dflt=False, pos=2),\n",
       "  \"a_np_int\": Int64Col(shape=(), dflt=0, pos=3),\n",
       "  \"a_np_float\": Float64Col(shape=(), dflt=0.0, pos=4),\n",
       "  \"a_np_bool\": BoolCol(shape=(), dflt=False, pos=5)}\n",
       "  byteorder := 'little'\n",
       "  chunkshape := (1927,)"
      ]
     },
     "execution_count": 15,
     "metadata": {},
     "output_type": "execute_result"
    }
   ],
   "source": [
    "import tables\n",
    "h5  = tables.open_file('container.h5')\n",
    "table = h5.root['data_0']['table']\n",
    "table"
   ]
  },
  {
   "cell_type": "markdown",
   "metadata": {},
   "source": [
    "note that here we can still access the metadata"
   ]
  },
  {
   "cell_type": "code",
   "execution_count": 16,
   "metadata": {
    "execution": {
     "iopub.execute_input": "2023-02-02T15:26:38.638112Z",
     "iopub.status.busy": "2023-02-02T15:26:38.637058Z",
     "iopub.status.idle": "2023-02-02T15:26:38.644241Z",
     "shell.execute_reply": "2023-02-02T15:26:38.643620Z"
    }
   },
   "outputs": [
    {
     "data": {
      "text/plain": [
       "/data_0/table._v_attrs (AttributeSet), 31 attributes:\n",
       "   [CLASS := 'TABLE',\n",
       "    CTAFIELD_0_DESC := 'some int value',\n",
       "    CTAFIELD_0_NAME := 'a_int',\n",
       "    CTAFIELD_1_DESC := 'some float value with a unit',\n",
       "    CTAFIELD_1_NAME := 'a_float',\n",
       "    CTAFIELD_1_TRANSFORM := 'quantity',\n",
       "    CTAFIELD_1_UNIT := 'm',\n",
       "    CTAFIELD_2_DESC := 'some bool value',\n",
       "    CTAFIELD_2_NAME := 'a_bool',\n",
       "    CTAFIELD_3_DESC := 'a numpy int',\n",
       "    CTAFIELD_3_NAME := 'a_np_int',\n",
       "    CTAFIELD_4_DESC := 'a numpy float',\n",
       "    CTAFIELD_4_NAME := 'a_np_float',\n",
       "    CTAFIELD_5_DESC := 'np.bool',\n",
       "    CTAFIELD_5_NAME := 'a_np_bool',\n",
       "    CTAPIPE_VERSION := '0.16.1.dev637+gc4cb55ed.d20230202',\n",
       "    FIELD_0_FILL := 0,\n",
       "    FIELD_0_NAME := 'a_int',\n",
       "    FIELD_1_FILL := 0.0,\n",
       "    FIELD_1_NAME := 'a_float',\n",
       "    FIELD_2_FILL := False,\n",
       "    FIELD_2_NAME := 'a_bool',\n",
       "    FIELD_3_FILL := 0,\n",
       "    FIELD_3_NAME := 'a_np_int',\n",
       "    FIELD_4_FILL := 0.0,\n",
       "    FIELD_4_NAME := 'a_np_float',\n",
       "    FIELD_5_FILL := False,\n",
       "    FIELD_5_NAME := 'a_np_bool',\n",
       "    NROWS := 10,\n",
       "    TITLE := 'Storage of VariousTypesContainer',\n",
       "    VERSION := '2.7']"
      ]
     },
     "execution_count": 16,
     "metadata": {},
     "output_type": "execute_result"
    }
   ],
   "source": [
    "table.attrs"
   ]
  },
  {
   "cell_type": "markdown",
   "metadata": {},
   "source": [
    "### Reading one-row-at-a-time:"
   ]
  },
  {
   "cell_type": "markdown",
   "metadata": {},
   "source": [
    "Rather than using the full-table methods, if you want to read it row-by-row (e.g. to maintain compatibility with an existing event loop), you can use a `TableReader` instance.\n",
    "\n",
    "The advantage here is that units and other metadata are retained and re-applied"
   ]
  },
  {
   "cell_type": "code",
   "execution_count": 17,
   "metadata": {
    "execution": {
     "iopub.execute_input": "2023-02-02T15:26:38.649722Z",
     "iopub.status.busy": "2023-02-02T15:26:38.648669Z",
     "iopub.status.idle": "2023-02-02T15:26:38.655127Z",
     "shell.execute_reply": "2023-02-02T15:26:38.654511Z"
    }
   },
   "outputs": [],
   "source": [
    "from ctapipe.io import HDF5TableReader\n",
    "\n",
    "def read(mode):\n",
    "    \n",
    "    print('reading mode {}'.format(mode))\n",
    "\n",
    "    with HDF5TableReader('container.h5', mode=mode) as h5_table:\n",
    "\n",
    "        for group_name in ['data_0/', 'data_1/']:\n",
    "\n",
    "            group_name = '/{}table'.format(group_name)\n",
    "            print(group_name)\n",
    "\n",
    "            for data in h5_table.read(group_name, VariousTypesContainer):\n",
    "\n",
    "                print(data.as_dict())"
   ]
  },
  {
   "cell_type": "code",
   "execution_count": 18,
   "metadata": {
    "execution": {
     "iopub.execute_input": "2023-02-02T15:26:38.659372Z",
     "iopub.status.busy": "2023-02-02T15:26:38.658340Z",
     "iopub.status.idle": "2023-02-02T15:26:38.682058Z",
     "shell.execute_reply": "2023-02-02T15:26:38.681239Z"
    }
   },
   "outputs": [
    {
     "name": "stdout",
     "output_type": "stream",
     "text": [
      "reading mode r\n",
      "/data_0/table\n",
      "{'a_int': 0, 'a_float': <Quantity 0. m>, 'a_bool': True, 'a_np_int': 0, 'a_np_float': 0.0, 'a_np_bool': True}\n",
      "{'a_int': 1, 'a_float': <Quantity 0.01 m>, 'a_bool': False, 'a_np_int': 1, 'a_np_float': 1.0, 'a_np_bool': False}\n",
      "{'a_int': 2, 'a_float': <Quantity 0.02 m>, 'a_bool': True, 'a_np_int': 2, 'a_np_float': 2.0, 'a_np_bool': True}\n",
      "{'a_int': 3, 'a_float': <Quantity 0.03 m>, 'a_bool': False, 'a_np_int': 3, 'a_np_float': 3.0, 'a_np_bool': False}\n",
      "{'a_int': 4, 'a_float': <Quantity 0.04 m>, 'a_bool': True, 'a_np_int': 4, 'a_np_float': 4.0, 'a_np_bool': True}\n",
      "{'a_int': 5, 'a_float': <Quantity 0.05 m>, 'a_bool': False, 'a_np_int': 5, 'a_np_float': 5.0, 'a_np_bool': False}\n",
      "{'a_int': 6, 'a_float': <Quantity 0.06 m>, 'a_bool': True, 'a_np_int': 6, 'a_np_float': 6.0, 'a_np_bool': True}\n",
      "{'a_int': 7, 'a_float': <Quantity 0.07 m>, 'a_bool': False, 'a_np_int': 7, 'a_np_float': 7.0, 'a_np_bool': False}\n",
      "{'a_int': 8, 'a_float': <Quantity 0.08 m>, 'a_bool': True, 'a_np_int': 8, 'a_np_float': 8.0, 'a_np_bool': True}\n",
      "{'a_int': 9, 'a_float': <Quantity 0.09 m>, 'a_bool': False, 'a_np_int': 9, 'a_np_float': 9.0, 'a_np_bool': False}\n",
      "/data_1/table\n",
      "{'a_int': 0, 'a_float': <Quantity 0. m>, 'a_bool': True, 'a_np_int': 0, 'a_np_float': 0.0, 'a_np_bool': True}\n",
      "{'a_int': 1, 'a_float': <Quantity 0.01 m>, 'a_bool': False, 'a_np_int': 1, 'a_np_float': 1.0, 'a_np_bool': False}\n",
      "{'a_int': 2, 'a_float': <Quantity 0.02 m>, 'a_bool': True, 'a_np_int': 2, 'a_np_float': 2.0, 'a_np_bool': True}\n",
      "{'a_int': 3, 'a_float': <Quantity 0.03 m>, 'a_bool': False, 'a_np_int': 3, 'a_np_float': 3.0, 'a_np_bool': False}\n",
      "{'a_int': 4, 'a_float': <Quantity 0.04 m>, 'a_bool': True, 'a_np_int': 4, 'a_np_float': 4.0, 'a_np_bool': True}\n",
      "{'a_int': 5, 'a_float': <Quantity 0.05 m>, 'a_bool': False, 'a_np_int': 5, 'a_np_float': 5.0, 'a_np_bool': False}\n",
      "{'a_int': 6, 'a_float': <Quantity 0.06 m>, 'a_bool': True, 'a_np_int': 6, 'a_np_float': 6.0, 'a_np_bool': True}\n",
      "{'a_int': 7, 'a_float': <Quantity 0.07 m>, 'a_bool': False, 'a_np_int': 7, 'a_np_float': 7.0, 'a_np_bool': False}\n",
      "{'a_int': 8, 'a_float': <Quantity 0.08 m>, 'a_bool': True, 'a_np_int': 8, 'a_np_float': 8.0, 'a_np_bool': True}\n",
      "{'a_int': 9, 'a_float': <Quantity 0.09 m>, 'a_bool': False, 'a_np_int': 9, 'a_np_float': 9.0, 'a_np_bool': False}\n",
      "{'a_int': 0, 'a_float': <Quantity 0. m>, 'a_bool': True, 'a_np_int': 0, 'a_np_float': 0.0, 'a_np_bool': True}\n",
      "{'a_int': 1, 'a_float': <Quantity 0.01 m>, 'a_bool': False, 'a_np_int': 1, 'a_np_float': 1.0, 'a_np_bool': False}\n",
      "{'a_int': 2, 'a_float': <Quantity 0.02 m>, 'a_bool': True, 'a_np_int': 2, 'a_np_float': 2.0, 'a_np_bool': True}\n",
      "{'a_int': 3, 'a_float': <Quantity 0.03 m>, 'a_bool': False, 'a_np_int': 3, 'a_np_float': 3.0, 'a_np_bool': False}\n",
      "{'a_int': 4, 'a_float': <Quantity 0.04 m>, 'a_bool': True, 'a_np_int': 4, 'a_np_float': 4.0, 'a_np_bool': True}\n",
      "{'a_int': 5, 'a_float': <Quantity 0.05 m>, 'a_bool': False, 'a_np_int': 5, 'a_np_float': 5.0, 'a_np_bool': False}\n",
      "{'a_int': 6, 'a_float': <Quantity 0.06 m>, 'a_bool': True, 'a_np_int': 6, 'a_np_float': 6.0, 'a_np_bool': True}\n",
      "{'a_int': 7, 'a_float': <Quantity 0.07 m>, 'a_bool': False, 'a_np_int': 7, 'a_np_float': 7.0, 'a_np_bool': False}\n",
      "{'a_int': 8, 'a_float': <Quantity 0.08 m>, 'a_bool': True, 'a_np_int': 8, 'a_np_float': 8.0, 'a_np_bool': True}\n",
      "{'a_int': 9, 'a_float': <Quantity 0.09 m>, 'a_bool': False, 'a_np_int': 9, 'a_np_float': 9.0, 'a_np_bool': False}\n"
     ]
    }
   ],
   "source": [
    "read('r')"
   ]
  },
  {
   "cell_type": "code",
   "execution_count": 19,
   "metadata": {
    "execution": {
     "iopub.execute_input": "2023-02-02T15:26:38.686437Z",
     "iopub.status.busy": "2023-02-02T15:26:38.685385Z",
     "iopub.status.idle": "2023-02-02T15:26:38.707274Z",
     "shell.execute_reply": "2023-02-02T15:26:38.706592Z"
    }
   },
   "outputs": [
    {
     "name": "stdout",
     "output_type": "stream",
     "text": [
      "reading mode r+\n",
      "/data_0/table\n",
      "{'a_int': 0, 'a_float': <Quantity 0. m>, 'a_bool': True, 'a_np_int': 0, 'a_np_float': 0.0, 'a_np_bool': True}\n",
      "{'a_int': 1, 'a_float': <Quantity 0.01 m>, 'a_bool': False, 'a_np_int': 1, 'a_np_float': 1.0, 'a_np_bool': False}\n",
      "{'a_int': 2, 'a_float': <Quantity 0.02 m>, 'a_bool': True, 'a_np_int': 2, 'a_np_float': 2.0, 'a_np_bool': True}\n",
      "{'a_int': 3, 'a_float': <Quantity 0.03 m>, 'a_bool': False, 'a_np_int': 3, 'a_np_float': 3.0, 'a_np_bool': False}\n",
      "{'a_int': 4, 'a_float': <Quantity 0.04 m>, 'a_bool': True, 'a_np_int': 4, 'a_np_float': 4.0, 'a_np_bool': True}\n",
      "{'a_int': 5, 'a_float': <Quantity 0.05 m>, 'a_bool': False, 'a_np_int': 5, 'a_np_float': 5.0, 'a_np_bool': False}\n",
      "{'a_int': 6, 'a_float': <Quantity 0.06 m>, 'a_bool': True, 'a_np_int': 6, 'a_np_float': 6.0, 'a_np_bool': True}\n",
      "{'a_int': 7, 'a_float': <Quantity 0.07 m>, 'a_bool': False, 'a_np_int': 7, 'a_np_float': 7.0, 'a_np_bool': False}\n",
      "{'a_int': 8, 'a_float': <Quantity 0.08 m>, 'a_bool': True, 'a_np_int': 8, 'a_np_float': 8.0, 'a_np_bool': True}\n",
      "{'a_int': 9, 'a_float': <Quantity 0.09 m>, 'a_bool': False, 'a_np_int': 9, 'a_np_float': 9.0, 'a_np_bool': False}\n",
      "/data_1/table\n",
      "{'a_int': 0, 'a_float': <Quantity 0. m>, 'a_bool': True, 'a_np_int': 0, 'a_np_float': 0.0, 'a_np_bool': True}\n",
      "{'a_int': 1, 'a_float': <Quantity 0.01 m>, 'a_bool': False, 'a_np_int': 1, 'a_np_float': 1.0, 'a_np_bool': False}\n",
      "{'a_int': 2, 'a_float': <Quantity 0.02 m>, 'a_bool': True, 'a_np_int': 2, 'a_np_float': 2.0, 'a_np_bool': True}\n",
      "{'a_int': 3, 'a_float': <Quantity 0.03 m>, 'a_bool': False, 'a_np_int': 3, 'a_np_float': 3.0, 'a_np_bool': False}\n",
      "{'a_int': 4, 'a_float': <Quantity 0.04 m>, 'a_bool': True, 'a_np_int': 4, 'a_np_float': 4.0, 'a_np_bool': True}\n",
      "{'a_int': 5, 'a_float': <Quantity 0.05 m>, 'a_bool': False, 'a_np_int': 5, 'a_np_float': 5.0, 'a_np_bool': False}\n",
      "{'a_int': 6, 'a_float': <Quantity 0.06 m>, 'a_bool': True, 'a_np_int': 6, 'a_np_float': 6.0, 'a_np_bool': True}\n",
      "{'a_int': 7, 'a_float': <Quantity 0.07 m>, 'a_bool': False, 'a_np_int': 7, 'a_np_float': 7.0, 'a_np_bool': False}\n",
      "{'a_int': 8, 'a_float': <Quantity 0.08 m>, 'a_bool': True, 'a_np_int': 8, 'a_np_float': 8.0, 'a_np_bool': True}\n",
      "{'a_int': 9, 'a_float': <Quantity 0.09 m>, 'a_bool': False, 'a_np_int': 9, 'a_np_float': 9.0, 'a_np_bool': False}\n",
      "{'a_int': 0, 'a_float': <Quantity 0. m>, 'a_bool': True, 'a_np_int': 0, 'a_np_float': 0.0, 'a_np_bool': True}\n",
      "{'a_int': 1, 'a_float': <Quantity 0.01 m>, 'a_bool': False, 'a_np_int': 1, 'a_np_float': 1.0, 'a_np_bool': False}\n",
      "{'a_int': 2, 'a_float': <Quantity 0.02 m>, 'a_bool': True, 'a_np_int': 2, 'a_np_float': 2.0, 'a_np_bool': True}\n",
      "{'a_int': 3, 'a_float': <Quantity 0.03 m>, 'a_bool': False, 'a_np_int': 3, 'a_np_float': 3.0, 'a_np_bool': False}\n",
      "{'a_int': 4, 'a_float': <Quantity 0.04 m>, 'a_bool': True, 'a_np_int': 4, 'a_np_float': 4.0, 'a_np_bool': True}\n",
      "{'a_int': 5, 'a_float': <Quantity 0.05 m>, 'a_bool': False, 'a_np_int': 5, 'a_np_float': 5.0, 'a_np_bool': False}\n",
      "{'a_int': 6, 'a_float': <Quantity 0.06 m>, 'a_bool': True, 'a_np_int': 6, 'a_np_float': 6.0, 'a_np_bool': True}\n",
      "{'a_int': 7, 'a_float': <Quantity 0.07 m>, 'a_bool': False, 'a_np_int': 7, 'a_np_float': 7.0, 'a_np_bool': False}\n",
      "{'a_int': 8, 'a_float': <Quantity 0.08 m>, 'a_bool': True, 'a_np_int': 8, 'a_np_float': 8.0, 'a_np_bool': True}\n",
      "{'a_int': 9, 'a_float': <Quantity 0.09 m>, 'a_bool': False, 'a_np_int': 9, 'a_np_float': 9.0, 'a_np_bool': False}\n"
     ]
    }
   ],
   "source": [
    "read('r+')"
   ]
  },
  {
   "cell_type": "code",
   "execution_count": 20,
   "metadata": {
    "execution": {
     "iopub.execute_input": "2023-02-02T15:26:38.712566Z",
     "iopub.status.busy": "2023-02-02T15:26:38.711344Z",
     "iopub.status.idle": "2023-02-02T15:26:38.732885Z",
     "shell.execute_reply": "2023-02-02T15:26:38.732039Z"
    }
   },
   "outputs": [
    {
     "name": "stdout",
     "output_type": "stream",
     "text": [
      "reading mode a\n",
      "/data_0/table\n",
      "{'a_int': 0, 'a_float': <Quantity 0. m>, 'a_bool': True, 'a_np_int': 0, 'a_np_float': 0.0, 'a_np_bool': True}\n",
      "{'a_int': 1, 'a_float': <Quantity 0.01 m>, 'a_bool': False, 'a_np_int': 1, 'a_np_float': 1.0, 'a_np_bool': False}\n",
      "{'a_int': 2, 'a_float': <Quantity 0.02 m>, 'a_bool': True, 'a_np_int': 2, 'a_np_float': 2.0, 'a_np_bool': True}\n",
      "{'a_int': 3, 'a_float': <Quantity 0.03 m>, 'a_bool': False, 'a_np_int': 3, 'a_np_float': 3.0, 'a_np_bool': False}\n",
      "{'a_int': 4, 'a_float': <Quantity 0.04 m>, 'a_bool': True, 'a_np_int': 4, 'a_np_float': 4.0, 'a_np_bool': True}\n",
      "{'a_int': 5, 'a_float': <Quantity 0.05 m>, 'a_bool': False, 'a_np_int': 5, 'a_np_float': 5.0, 'a_np_bool': False}\n",
      "{'a_int': 6, 'a_float': <Quantity 0.06 m>, 'a_bool': True, 'a_np_int': 6, 'a_np_float': 6.0, 'a_np_bool': True}\n",
      "{'a_int': 7, 'a_float': <Quantity 0.07 m>, 'a_bool': False, 'a_np_int': 7, 'a_np_float': 7.0, 'a_np_bool': False}\n",
      "{'a_int': 8, 'a_float': <Quantity 0.08 m>, 'a_bool': True, 'a_np_int': 8, 'a_np_float': 8.0, 'a_np_bool': True}\n",
      "{'a_int': 9, 'a_float': <Quantity 0.09 m>, 'a_bool': False, 'a_np_int': 9, 'a_np_float': 9.0, 'a_np_bool': False}\n",
      "/data_1/table\n",
      "{'a_int': 0, 'a_float': <Quantity 0. m>, 'a_bool': True, 'a_np_int': 0, 'a_np_float': 0.0, 'a_np_bool': True}\n",
      "{'a_int': 1, 'a_float': <Quantity 0.01 m>, 'a_bool': False, 'a_np_int': 1, 'a_np_float': 1.0, 'a_np_bool': False}\n",
      "{'a_int': 2, 'a_float': <Quantity 0.02 m>, 'a_bool': True, 'a_np_int': 2, 'a_np_float': 2.0, 'a_np_bool': True}\n",
      "{'a_int': 3, 'a_float': <Quantity 0.03 m>, 'a_bool': False, 'a_np_int': 3, 'a_np_float': 3.0, 'a_np_bool': False}\n",
      "{'a_int': 4, 'a_float': <Quantity 0.04 m>, 'a_bool': True, 'a_np_int': 4, 'a_np_float': 4.0, 'a_np_bool': True}\n",
      "{'a_int': 5, 'a_float': <Quantity 0.05 m>, 'a_bool': False, 'a_np_int': 5, 'a_np_float': 5.0, 'a_np_bool': False}\n",
      "{'a_int': 6, 'a_float': <Quantity 0.06 m>, 'a_bool': True, 'a_np_int': 6, 'a_np_float': 6.0, 'a_np_bool': True}\n",
      "{'a_int': 7, 'a_float': <Quantity 0.07 m>, 'a_bool': False, 'a_np_int': 7, 'a_np_float': 7.0, 'a_np_bool': False}\n",
      "{'a_int': 8, 'a_float': <Quantity 0.08 m>, 'a_bool': True, 'a_np_int': 8, 'a_np_float': 8.0, 'a_np_bool': True}\n",
      "{'a_int': 9, 'a_float': <Quantity 0.09 m>, 'a_bool': False, 'a_np_int': 9, 'a_np_float': 9.0, 'a_np_bool': False}\n",
      "{'a_int': 0, 'a_float': <Quantity 0. m>, 'a_bool': True, 'a_np_int': 0, 'a_np_float': 0.0, 'a_np_bool': True}\n",
      "{'a_int': 1, 'a_float': <Quantity 0.01 m>, 'a_bool': False, 'a_np_int': 1, 'a_np_float': 1.0, 'a_np_bool': False}\n",
      "{'a_int': 2, 'a_float': <Quantity 0.02 m>, 'a_bool': True, 'a_np_int': 2, 'a_np_float': 2.0, 'a_np_bool': True}\n",
      "{'a_int': 3, 'a_float': <Quantity 0.03 m>, 'a_bool': False, 'a_np_int': 3, 'a_np_float': 3.0, 'a_np_bool': False}\n",
      "{'a_int': 4, 'a_float': <Quantity 0.04 m>, 'a_bool': True, 'a_np_int': 4, 'a_np_float': 4.0, 'a_np_bool': True}\n",
      "{'a_int': 5, 'a_float': <Quantity 0.05 m>, 'a_bool': False, 'a_np_int': 5, 'a_np_float': 5.0, 'a_np_bool': False}\n",
      "{'a_int': 6, 'a_float': <Quantity 0.06 m>, 'a_bool': True, 'a_np_int': 6, 'a_np_float': 6.0, 'a_np_bool': True}\n",
      "{'a_int': 7, 'a_float': <Quantity 0.07 m>, 'a_bool': False, 'a_np_int': 7, 'a_np_float': 7.0, 'a_np_bool': False}\n",
      "{'a_int': 8, 'a_float': <Quantity 0.08 m>, 'a_bool': True, 'a_np_int': 8, 'a_np_float': 8.0, 'a_np_bool': True}\n",
      "{'a_int': 9, 'a_float': <Quantity 0.09 m>, 'a_bool': False, 'a_np_int': 9, 'a_np_float': 9.0, 'a_np_bool': False}\n"
     ]
    }
   ],
   "source": [
    "read('a')"
   ]
  },
  {
   "cell_type": "code",
   "execution_count": 21,
   "metadata": {
    "execution": {
     "iopub.execute_input": "2023-02-02T15:26:38.741117Z",
     "iopub.status.busy": "2023-02-02T15:26:38.736703Z",
     "iopub.status.idle": "2023-02-02T15:26:38.765631Z",
     "shell.execute_reply": "2023-02-02T15:26:38.764970Z"
    }
   },
   "outputs": [
    {
     "name": "stdout",
     "output_type": "stream",
     "text": [
      "reading mode w\n",
      "/data_0/table\n",
      "{'a_int': 0, 'a_float': <Quantity 0. m>, 'a_bool': True, 'a_np_int': 0, 'a_np_float': 0.0, 'a_np_bool': True}\n",
      "{'a_int': 1, 'a_float': <Quantity 0.01 m>, 'a_bool': False, 'a_np_int': 1, 'a_np_float': 1.0, 'a_np_bool': False}\n",
      "{'a_int': 2, 'a_float': <Quantity 0.02 m>, 'a_bool': True, 'a_np_int': 2, 'a_np_float': 2.0, 'a_np_bool': True}\n",
      "{'a_int': 3, 'a_float': <Quantity 0.03 m>, 'a_bool': False, 'a_np_int': 3, 'a_np_float': 3.0, 'a_np_bool': False}\n",
      "{'a_int': 4, 'a_float': <Quantity 0.04 m>, 'a_bool': True, 'a_np_int': 4, 'a_np_float': 4.0, 'a_np_bool': True}\n",
      "{'a_int': 5, 'a_float': <Quantity 0.05 m>, 'a_bool': False, 'a_np_int': 5, 'a_np_float': 5.0, 'a_np_bool': False}\n",
      "{'a_int': 6, 'a_float': <Quantity 0.06 m>, 'a_bool': True, 'a_np_int': 6, 'a_np_float': 6.0, 'a_np_bool': True}\n",
      "{'a_int': 7, 'a_float': <Quantity 0.07 m>, 'a_bool': False, 'a_np_int': 7, 'a_np_float': 7.0, 'a_np_bool': False}\n",
      "{'a_int': 8, 'a_float': <Quantity 0.08 m>, 'a_bool': True, 'a_np_int': 8, 'a_np_float': 8.0, 'a_np_bool': True}\n",
      "{'a_int': 9, 'a_float': <Quantity 0.09 m>, 'a_bool': False, 'a_np_int': 9, 'a_np_float': 9.0, 'a_np_bool': False}\n",
      "/data_1/table\n",
      "{'a_int': 0, 'a_float': <Quantity 0. m>, 'a_bool': True, 'a_np_int': 0, 'a_np_float': 0.0, 'a_np_bool': True}\n",
      "{'a_int': 1, 'a_float': <Quantity 0.01 m>, 'a_bool': False, 'a_np_int': 1, 'a_np_float': 1.0, 'a_np_bool': False}\n",
      "{'a_int': 2, 'a_float': <Quantity 0.02 m>, 'a_bool': True, 'a_np_int': 2, 'a_np_float': 2.0, 'a_np_bool': True}\n",
      "{'a_int': 3, 'a_float': <Quantity 0.03 m>, 'a_bool': False, 'a_np_int': 3, 'a_np_float': 3.0, 'a_np_bool': False}\n",
      "{'a_int': 4, 'a_float': <Quantity 0.04 m>, 'a_bool': True, 'a_np_int': 4, 'a_np_float': 4.0, 'a_np_bool': True}\n",
      "{'a_int': 5, 'a_float': <Quantity 0.05 m>, 'a_bool': False, 'a_np_int': 5, 'a_np_float': 5.0, 'a_np_bool': False}\n",
      "{'a_int': 6, 'a_float': <Quantity 0.06 m>, 'a_bool': True, 'a_np_int': 6, 'a_np_float': 6.0, 'a_np_bool': True}\n",
      "{'a_int': 7, 'a_float': <Quantity 0.07 m>, 'a_bool': False, 'a_np_int': 7, 'a_np_float': 7.0, 'a_np_bool': False}\n",
      "{'a_int': 8, 'a_float': <Quantity 0.08 m>, 'a_bool': True, 'a_np_int': 8, 'a_np_float': 8.0, 'a_np_bool': True}\n",
      "{'a_int': 9, 'a_float': <Quantity 0.09 m>, 'a_bool': False, 'a_np_int': 9, 'a_np_float': 9.0, 'a_np_bool': False}\n",
      "{'a_int': 0, 'a_float': <Quantity 0. m>, 'a_bool': True, 'a_np_int': 0, 'a_np_float': 0.0, 'a_np_bool': True}\n",
      "{'a_int': 1, 'a_float': <Quantity 0.01 m>, 'a_bool': False, 'a_np_int': 1, 'a_np_float': 1.0, 'a_np_bool': False}\n",
      "{'a_int': 2, 'a_float': <Quantity 0.02 m>, 'a_bool': True, 'a_np_int': 2, 'a_np_float': 2.0, 'a_np_bool': True}\n",
      "{'a_int': 3, 'a_float': <Quantity 0.03 m>, 'a_bool': False, 'a_np_int': 3, 'a_np_float': 3.0, 'a_np_bool': False}\n",
      "{'a_int': 4, 'a_float': <Quantity 0.04 m>, 'a_bool': True, 'a_np_int': 4, 'a_np_float': 4.0, 'a_np_bool': True}\n",
      "{'a_int': 5, 'a_float': <Quantity 0.05 m>, 'a_bool': False, 'a_np_int': 5, 'a_np_float': 5.0, 'a_np_bool': False}\n",
      "{'a_int': 6, 'a_float': <Quantity 0.06 m>, 'a_bool': True, 'a_np_int': 6, 'a_np_float': 6.0, 'a_np_bool': True}\n",
      "{'a_int': 7, 'a_float': <Quantity 0.07 m>, 'a_bool': False, 'a_np_int': 7, 'a_np_float': 7.0, 'a_np_bool': False}\n",
      "{'a_int': 8, 'a_float': <Quantity 0.08 m>, 'a_bool': True, 'a_np_int': 8, 'a_np_float': 8.0, 'a_np_bool': True}\n",
      "{'a_int': 9, 'a_float': <Quantity 0.09 m>, 'a_bool': False, 'a_np_int': 9, 'a_np_float': 9.0, 'a_np_bool': False}\n"
     ]
    }
   ],
   "source": [
    "read('w')"
   ]
  },
  {
   "cell_type": "code",
   "execution_count": null,
   "metadata": {},
   "outputs": [],
   "source": []
  }
 ],
 "metadata": {
  "kernelspec": {
   "display_name": "Python 3 (ipykernel)",
   "language": "python",
   "name": "python3"
  },
  "language_info": {
   "codemirror_mode": {
    "name": "ipython",
    "version": 3
   },
   "file_extension": ".py",
   "mimetype": "text/x-python",
   "name": "python",
   "nbconvert_exporter": "python",
   "pygments_lexer": "ipython3",
   "version": "3.8.16"
  }
 },
 "nbformat": 4,
 "nbformat_minor": 4
}
