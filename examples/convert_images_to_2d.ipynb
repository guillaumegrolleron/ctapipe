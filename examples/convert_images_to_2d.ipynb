{
 "cells": [
  {
   "cell_type": "markdown",
   "metadata": {},
   "source": [
    "# Convert camera images to pixels on a s square grid"
   ]
  },
  {
   "cell_type": "code",
   "execution_count": 1,
   "metadata": {
    "execution": {
     "iopub.execute_input": "2023-02-02T15:27:25.370612Z",
     "iopub.status.busy": "2023-02-02T15:27:25.370364Z",
     "iopub.status.idle": "2023-02-02T15:27:30.582928Z",
     "shell.execute_reply": "2023-02-02T15:27:30.581934Z"
    }
   },
   "outputs": [],
   "source": [
    "from ctapipe.utils import get_dataset_path\n",
    "from ctapipe.visualization import CameraDisplay\n",
    "from ctapipe.instrument import SubarrayDescription\n",
    "from ctapipe.io import EventSource\n",
    "from ctapipe.image.toymodel import Gaussian\n",
    "import matplotlib.pyplot as plt\n",
    "import astropy.units as u"
   ]
  },
  {
   "cell_type": "code",
   "execution_count": 2,
   "metadata": {
    "execution": {
     "iopub.execute_input": "2023-02-02T15:27:30.587207Z",
     "iopub.status.busy": "2023-02-02T15:27:30.586783Z",
     "iopub.status.idle": "2023-02-02T15:27:32.242222Z",
     "shell.execute_reply": "2023-02-02T15:27:32.241035Z"
    }
   },
   "outputs": [],
   "source": [
    "# get the subarray from an example file\n",
    "subarray = SubarrayDescription.read(\"dataset://gamma_prod5.simtel.zst\")"
   ]
  },
  {
   "cell_type": "markdown",
   "metadata": {},
   "source": [
    "## Geometries with square pixels\n",
    "\n",
    "Define a camera geometry and generate a dummy image:"
   ]
  },
  {
   "cell_type": "code",
   "execution_count": 3,
   "metadata": {
    "execution": {
     "iopub.execute_input": "2023-02-02T15:27:32.246333Z",
     "iopub.status.busy": "2023-02-02T15:27:32.246023Z",
     "iopub.status.idle": "2023-02-02T15:27:32.255591Z",
     "shell.execute_reply": "2023-02-02T15:27:32.254847Z"
    }
   },
   "outputs": [],
   "source": [
    "geom = subarray.tel[40].camera.geometry\n",
    "model = Gaussian(\n",
    "    x=0.05 * u.m,\n",
    "    y=0.05 * u.m,\n",
    "    width=0.01 * u.m,\n",
    "    length=0.05 * u.m,\n",
    "    psi=\"30d\",\n",
    ")\n",
    "_, image, _ = model.generate_image(geom, intensity=500, nsb_level_pe=3)"
   ]
  },
  {
   "cell_type": "code",
   "execution_count": 4,
   "metadata": {
    "execution": {
     "iopub.execute_input": "2023-02-02T15:27:32.259921Z",
     "iopub.status.busy": "2023-02-02T15:27:32.258827Z",
     "iopub.status.idle": "2023-02-02T15:27:32.753293Z",
     "shell.execute_reply": "2023-02-02T15:27:32.752575Z"
    }
   },
   "outputs": [
    {
     "data": {
      "text/plain": [
       "<ctapipe.visualization.mpl_camera.CameraDisplay at 0x7fd73cb093a0>"
      ]
     },
     "execution_count": 4,
     "metadata": {},
     "output_type": "execute_result"
    }
   ],
   "source": [
    "CameraDisplay(geom, image)"
   ]
  },
  {
   "cell_type": "markdown",
   "metadata": {},
   "source": [
    "The `CameraGeometry` has functions to convert the 1d image arrays to 2d arrays and back to the 1d array:"
   ]
  },
  {
   "cell_type": "code",
   "execution_count": 5,
   "metadata": {
    "execution": {
     "iopub.execute_input": "2023-02-02T15:27:32.758219Z",
     "iopub.status.busy": "2023-02-02T15:27:32.757097Z",
     "iopub.status.idle": "2023-02-02T15:27:32.763135Z",
     "shell.execute_reply": "2023-02-02T15:27:32.762439Z"
    }
   },
   "outputs": [],
   "source": [
    "image_square = geom.image_to_cartesian_representation(image)"
   ]
  },
  {
   "cell_type": "code",
   "execution_count": 6,
   "metadata": {
    "execution": {
     "iopub.execute_input": "2023-02-02T15:27:32.767546Z",
     "iopub.status.busy": "2023-02-02T15:27:32.766452Z",
     "iopub.status.idle": "2023-02-02T15:27:32.774791Z",
     "shell.execute_reply": "2023-02-02T15:27:32.774166Z"
    }
   },
   "outputs": [
    {
     "data": {
      "text/plain": [
       "<matplotlib.image.AxesImage at 0x7fd73fe20df0>"
      ]
     },
     "execution_count": 6,
     "metadata": {},
     "output_type": "execute_result"
    }
   ],
   "source": [
    "plt.imshow(image_square)"
   ]
  },
  {
   "cell_type": "code",
   "execution_count": 7,
   "metadata": {
    "execution": {
     "iopub.execute_input": "2023-02-02T15:27:32.778998Z",
     "iopub.status.busy": "2023-02-02T15:27:32.777946Z",
     "iopub.status.idle": "2023-02-02T15:27:32.782652Z",
     "shell.execute_reply": "2023-02-02T15:27:32.781991Z"
    }
   },
   "outputs": [],
   "source": [
    "image_1d = geom.image_from_cartesian_representation(image_square)"
   ]
  },
  {
   "cell_type": "code",
   "execution_count": 8,
   "metadata": {
    "execution": {
     "iopub.execute_input": "2023-02-02T15:27:32.785738Z",
     "iopub.status.busy": "2023-02-02T15:27:32.785481Z",
     "iopub.status.idle": "2023-02-02T15:27:33.102385Z",
     "shell.execute_reply": "2023-02-02T15:27:33.101644Z"
    }
   },
   "outputs": [
    {
     "data": {
      "text/plain": [
       "<ctapipe.visualization.mpl_camera.CameraDisplay at 0x7fd73fe200d0>"
      ]
     },
     "execution_count": 8,
     "metadata": {},
     "output_type": "execute_result"
    }
   ],
   "source": [
    "CameraDisplay(geom, image_1d)"
   ]
  },
  {
   "cell_type": "markdown",
   "metadata": {},
   "source": [
    "## Geometries with hexagonal pixels\n",
    "\n",
    "Define a camera geometry and generate a dummy image:"
   ]
  },
  {
   "cell_type": "code",
   "execution_count": 9,
   "metadata": {
    "execution": {
     "iopub.execute_input": "2023-02-02T15:27:33.107064Z",
     "iopub.status.busy": "2023-02-02T15:27:33.105974Z",
     "iopub.status.idle": "2023-02-02T15:27:33.115205Z",
     "shell.execute_reply": "2023-02-02T15:27:33.114461Z"
    }
   },
   "outputs": [],
   "source": [
    "geom = subarray.tel[1].camera.geometry\n",
    "model = Gaussian(\n",
    "    x=0.5 * u.m,\n",
    "    y=0.5 * u.m,\n",
    "    width=0.1 * u.m,\n",
    "    length=0.2 * u.m,\n",
    "    psi=\"30d\",\n",
    ")\n",
    "_, image, _ = model.generate_image(geom, intensity=5000)"
   ]
  },
  {
   "cell_type": "code",
   "execution_count": 10,
   "metadata": {
    "execution": {
     "iopub.execute_input": "2023-02-02T15:27:33.120099Z",
     "iopub.status.busy": "2023-02-02T15:27:33.118993Z",
     "iopub.status.idle": "2023-02-02T15:27:33.431297Z",
     "shell.execute_reply": "2023-02-02T15:27:33.430576Z"
    }
   },
   "outputs": [
    {
     "data": {
      "text/plain": [
       "<ctapipe.visualization.mpl_camera.CameraDisplay at 0x7fd73fe199d0>"
      ]
     },
     "execution_count": 10,
     "metadata": {},
     "output_type": "execute_result"
    }
   ],
   "source": [
    "CameraDisplay(geom, image)"
   ]
  },
  {
   "cell_type": "code",
   "execution_count": 11,
   "metadata": {
    "execution": {
     "iopub.execute_input": "2023-02-02T15:27:33.435871Z",
     "iopub.status.busy": "2023-02-02T15:27:33.434768Z",
     "iopub.status.idle": "2023-02-02T15:27:33.443625Z",
     "shell.execute_reply": "2023-02-02T15:27:33.442960Z"
    }
   },
   "outputs": [],
   "source": [
    "image_square = geom.image_to_cartesian_representation(image)"
   ]
  },
  {
   "cell_type": "markdown",
   "metadata": {},
   "source": [
    "## Conversion into square geometry\n",
    "\n",
    "Since the resulting array has square pixels, the pixel grid has to be rotated and distorted.\n",
    "This is reversible (The `image_from_cartesian_representation` method takes care of this):"
   ]
  },
  {
   "cell_type": "code",
   "execution_count": 12,
   "metadata": {
    "execution": {
     "iopub.execute_input": "2023-02-02T15:27:33.447873Z",
     "iopub.status.busy": "2023-02-02T15:27:33.446789Z",
     "iopub.status.idle": "2023-02-02T15:27:33.454847Z",
     "shell.execute_reply": "2023-02-02T15:27:33.454228Z"
    }
   },
   "outputs": [
    {
     "data": {
      "text/plain": [
       "<matplotlib.image.AxesImage at 0x7fd73fe19040>"
      ]
     },
     "execution_count": 12,
     "metadata": {},
     "output_type": "execute_result"
    }
   ],
   "source": [
    "plt.imshow(image_square)"
   ]
  },
  {
   "cell_type": "code",
   "execution_count": 13,
   "metadata": {
    "execution": {
     "iopub.execute_input": "2023-02-02T15:27:33.459079Z",
     "iopub.status.busy": "2023-02-02T15:27:33.458020Z",
     "iopub.status.idle": "2023-02-02T15:27:33.462666Z",
     "shell.execute_reply": "2023-02-02T15:27:33.462046Z"
    }
   },
   "outputs": [],
   "source": [
    "image_1d = geom.image_from_cartesian_representation(image_square)"
   ]
  },
  {
   "cell_type": "code",
   "execution_count": 14,
   "metadata": {
    "execution": {
     "iopub.execute_input": "2023-02-02T15:27:33.466787Z",
     "iopub.status.busy": "2023-02-02T15:27:33.465737Z",
     "iopub.status.idle": "2023-02-02T15:27:33.954799Z",
     "shell.execute_reply": "2023-02-02T15:27:33.953164Z"
    }
   },
   "outputs": [],
   "source": [
    "disp = CameraDisplay(geom, image_1d)"
   ]
  }
 ],
 "metadata": {
  "kernelspec": {
   "display_name": "Python 3 (ipykernel)",
   "language": "python",
   "name": "python3"
  },
  "language_info": {
   "codemirror_mode": {
    "name": "ipython",
    "version": 3
   },
   "file_extension": ".py",
   "mimetype": "text/x-python",
   "name": "python",
   "nbconvert_exporter": "python",
   "pygments_lexer": "ipython3",
   "version": "3.8.16"
  }
 },
 "nbformat": 4,
 "nbformat_minor": 4
}
